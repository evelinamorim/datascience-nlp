{
 "cells": [
  {
   "cell_type": "code",
   "execution_count": 1,
   "metadata": {},
   "outputs": [],
   "source": [
    "from gensim.models import KeyedVectors"
   ]
  },
  {
   "cell_type": "code",
   "execution_count": 2,
   "metadata": {},
   "outputs": [
    {
     "name": "stderr",
     "output_type": "stream",
     "text": [
      "/usr/local/anaconda3/lib/python3.6/site-packages/smart_open/smart_open_lib.py:402: UserWarning: This function is deprecated, use smart_open.open instead. See the migration notes for details: https://github.com/RaRe-Technologies/smart_open/blob/master/README.rst#migrating-to-the-new-open-function\n",
      "  'See the migration notes for details: %s' % _MIGRATION_NOTES_URL\n"
     ]
    }
   ],
   "source": [
    "model = KeyedVectors.load_word2vec_format('vectors-wikipt.bin',binary=True)"
   ]
  },
  {
   "cell_type": "code",
   "execution_count": 3,
   "metadata": {},
   "outputs": [
    {
     "data": {
      "text/plain": [
       "[('rainha', 0.5466872453689575),\n",
       " ('infanta', 0.44911837577819824),\n",
       " ('princesa', 0.42802226543426514),\n",
       " ('quenaz', 0.4131646752357483),\n",
       " ('filha', 0.39729493856430054),\n",
       " ('rey', 0.39350321888923645),\n",
       " ('princeza', 0.38436806201934814),\n",
       " ('esposa', 0.38416537642478943),\n",
       " ('hazor', 0.3814408481121063),\n",
       " ('ester', 0.38121312856674194)]"
      ]
     },
     "execution_count": 3,
     "metadata": {},
     "output_type": "execute_result"
    }
   ],
   "source": [
    "model.most_similar(positive=[\"rei\",\"mulher\"],negative=[\"homem\"]) # rei - homem + mulher = ?"
   ]
  },
  {
   "cell_type": "code",
   "execution_count": 4,
   "metadata": {},
   "outputs": [
    {
     "data": {
      "text/plain": [
       "[('chancellaria', 0.3941475749015808),\n",
       " ('caleppi', 0.3938908576965332),\n",
       " ('eirei', 0.38475948572158813),\n",
       " ('infantas', 0.3843807876110077),\n",
       " ('austria', 0.37864750623703003),\n",
       " ('lisboa', 0.3719940185546875),\n",
       " ('bourbon', 0.37099751830101013),\n",
       " ('prussia', 0.3699173331260681),\n",
       " ('napoles', 0.366555780172348),\n",
       " ('bourbons', 0.36133790016174316)]"
      ]
     },
     "execution_count": 4,
     "metadata": {},
     "output_type": "execute_result"
    }
   ],
   "source": [
    "model.most_similar(positive=[\"brasilia\",\"portugal\"],negative=[\"brasil\"]) # brasilia - brasil + portugal = ?"
   ]
  },
  {
   "cell_type": "code",
   "execution_count": null,
   "metadata": {},
   "outputs": [],
   "source": []
  }
 ],
 "metadata": {
  "kernelspec": {
   "display_name": "Python 3",
   "language": "python",
   "name": "python3"
  },
  "language_info": {
   "codemirror_mode": {
    "name": "ipython",
    "version": 3
   },
   "file_extension": ".py",
   "mimetype": "text/x-python",
   "name": "python",
   "nbconvert_exporter": "python",
   "pygments_lexer": "ipython3",
   "version": "3.6.10"
  }
 },
 "nbformat": 4,
 "nbformat_minor": 4
}
