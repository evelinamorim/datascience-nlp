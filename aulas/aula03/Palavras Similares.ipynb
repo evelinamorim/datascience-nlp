{
 "cells": [
  {
   "cell_type": "code",
   "execution_count": 17,
   "metadata": {},
   "outputs": [],
   "source": [
    "from gensim.models import KeyedVectors\n",
    "import numpy as np\n",
    "from numpy.linalg import norm"
   ]
  },
  {
   "cell_type": "code",
   "execution_count": 4,
   "metadata": {},
   "outputs": [
    {
     "name": "stderr",
     "output_type": "stream",
     "text": [
      "/usr/local/anaconda3/lib/python3.6/site-packages/smart_open/smart_open_lib.py:402: UserWarning: This function is deprecated, use smart_open.open instead. See the migration notes for details: https://github.com/RaRe-Technologies/smart_open/blob/master/README.rst#migrating-to-the-new-open-function\n",
      "  'See the migration notes for details: %s' % _MIGRATION_NOTES_URL\n"
     ]
    }
   ],
   "source": [
    "# carregando um modelo treinado por mim em uma pequena versao da wikipedia\n",
    "model = KeyedVectors.load_word2vec_format('vectors-wikipt.bin',binary= True)"
   ]
  },
  {
   "cell_type": "code",
   "execution_count": 5,
   "metadata": {},
   "outputs": [
    {
     "data": {
      "text/plain": [
       "array([ 1.8886319 , -3.771018  ,  0.10762313,  0.61441505,  1.926631  ,\n",
       "        1.9976244 , -0.33935708,  2.4862874 , -0.42890227, -0.58646   ,\n",
       "        2.3623488 ,  2.5200472 ,  1.9033719 ,  4.079679  , -0.10561243,\n",
       "        0.78622633, -0.9267646 ,  1.3110824 , -1.37372   ,  0.37105256,\n",
       "       -1.5369301 , -0.13705607,  1.6577293 , -1.175925  , -1.296709  ,\n",
       "        0.7778328 ,  1.9804803 ,  0.14933333, -1.4972932 ,  0.6829316 ,\n",
       "        0.8332345 , -1.3051977 ,  0.6852901 , -0.76557803,  1.1942047 ,\n",
       "       -1.3230094 , -1.4562169 , -1.847897  ,  0.9175911 , -0.27034336,\n",
       "       -0.40677264,  3.566081  ,  2.733509  , -0.4324551 ,  0.8698275 ,\n",
       "       -1.2662649 ,  0.66723686,  0.9496559 ,  1.2110201 , -0.6890765 ,\n",
       "       -1.4355525 , -0.7886501 , -0.7156869 ,  0.8635127 ,  0.5621135 ,\n",
       "       -2.991088  , -0.2893613 ,  2.7684932 , -0.375143  ,  0.9260375 ,\n",
       "        1.1215837 ,  0.14873272, -2.3136995 ,  0.2513039 ,  3.2256486 ,\n",
       "        0.82483506, -2.862681  , -0.70117956, -3.1016614 ,  1.9233052 ,\n",
       "       -0.36037567,  0.7338821 , -0.19095716, -2.061796  ,  1.5777233 ,\n",
       "       -1.2660688 , -0.5540146 , -2.1628017 , -2.2342212 , -0.8575001 ,\n",
       "       -0.88520765,  0.3986482 , -3.5394535 , -1.552159  ,  1.9815118 ,\n",
       "        0.7953822 , -0.12199523, -1.0318502 ,  0.6841881 ,  1.864995  ,\n",
       "       -3.4668403 ,  0.7186041 ,  1.0520829 , -0.4572442 , -0.47525302,\n",
       "        1.4839185 ,  2.0035055 ,  3.8681798 , -1.2177733 ,  0.736966  ,\n",
       "       -0.5010137 ,  0.4886722 , -1.2991345 , -2.2544558 , -0.90361464,\n",
       "        3.8725739 , -2.2582328 ,  0.5530119 ,  2.1311188 ,  1.4067831 ,\n",
       "       -1.6634557 , -0.21806596, -0.95418125,  1.0916345 , -0.10356843,\n",
       "       -0.7158931 ,  0.11051156,  0.5903643 , -0.8399782 , -1.9956183 ,\n",
       "       -1.1903886 ,  0.4081889 , -0.72307   ,  2.2729752 ,  0.08897475,\n",
       "       -0.60436314,  0.3995953 ,  0.95005155, -0.86362875, -0.19976477,\n",
       "       -0.08833557, -0.9299331 , -0.31119028,  0.382042  , -0.8241506 ,\n",
       "        1.1500002 ,  0.4944796 , -0.98611546,  0.11957727,  0.30848548,\n",
       "       -2.9462676 ,  0.23988341,  0.7856272 , -1.1908174 , -1.2978523 ,\n",
       "       -1.5886134 ,  3.6144931 , -1.1640943 ,  1.7845343 , -0.6661225 ,\n",
       "        0.89810544, -1.866251  , -2.197298  , -0.20008044, -0.08950065,\n",
       "       -0.7045425 ,  1.7986805 , -3.2096612 ,  1.4983238 ,  0.5381308 ,\n",
       "        0.17713422, -1.6800117 , -0.09350602, -0.6795969 ,  1.692463  ,\n",
       "       -0.50897706,  3.0475428 ,  0.07086791, -2.0763063 , -1.0849699 ,\n",
       "        1.0854338 , -4.5408545 ,  0.96123534,  0.76588935,  1.8933372 ,\n",
       "       -0.3223943 , -0.4695298 ,  0.29474968, -0.03869386, -3.403236  ,\n",
       "       -1.0610244 ,  1.7239144 , -4.0668273 , -0.523229  ,  2.7100253 ,\n",
       "       -0.81707007, -1.5820427 ,  1.331201  , -0.9222211 , -0.53674257,\n",
       "       -1.4635262 , -0.09992658, -1.9431604 , -1.7386669 , -0.14969577,\n",
       "        0.33144388, -0.19441538, -1.0588305 ,  2.7406697 ,  0.2189971 ,\n",
       "        2.9824135 ,  1.5385371 , -1.3733593 ,  0.871717  , -1.7964549 ,\n",
       "       -1.0643029 , -2.004367  ,  0.08882288,  1.3674755 ,  2.9714632 ,\n",
       "       -0.47761464, -0.9252337 ,  0.03912779,  0.46025035, -2.0417123 ,\n",
       "       -0.05168105, -0.7464147 ,  1.6475548 ,  0.07422803,  0.3197211 ,\n",
       "       -1.233295  , -0.32536298,  1.4710705 ,  0.619134  ,  1.0060589 ,\n",
       "       -0.02131917,  1.3205409 ,  1.6130499 ,  0.12028985, -2.1356404 ,\n",
       "        1.1272436 ,  0.7243378 , -1.9953576 , -1.3763391 , -1.3570291 ,\n",
       "       -0.15803885,  0.26037392, -0.32100227,  1.3716447 ,  1.9518121 ,\n",
       "       -3.1323137 , -2.28311   ,  0.56723   ,  2.3073401 ,  0.2531389 ,\n",
       "       -2.7607253 , -2.3878262 , -1.8230741 ,  0.3070525 ,  2.4405413 ,\n",
       "       -0.20847675, -1.4656004 ,  1.5604426 , -0.46241823, -0.01245171,\n",
       "       -0.6630614 ,  1.3451809 , -0.93946695,  1.7855613 , -0.01153038,\n",
       "       -2.010963  ,  1.8790473 ,  1.6364657 , -2.1041815 , -0.8676347 ,\n",
       "       -1.8260632 , -2.3042295 , -2.0468125 , -1.2700652 , -0.06467089,\n",
       "        1.4667166 , -1.2272738 , -0.7249654 , -1.158387  , -0.9739083 ,\n",
       "       -2.5698552 , -1.4043852 , -1.4382343 ,  1.2149326 , -0.15109107,\n",
       "        1.6715564 , -1.6017424 ,  0.32064292, -0.5693393 , -1.1122372 ,\n",
       "       -0.48997718, -0.03977391,  0.7270853 ,  3.8578815 , -2.209067  ,\n",
       "       -1.1806756 , -1.865373  , -0.21349007,  0.7373038 ,  1.4127074 ,\n",
       "        1.2561138 ,  2.7250266 , -1.4504404 ,  0.6715504 ,  2.1134856 ],\n",
       "      dtype=float32)"
      ]
     },
     "execution_count": 5,
     "metadata": {},
     "output_type": "execute_result"
    }
   ],
   "source": [
    "# vamos olhar o conteudo do vetor deste novo modelo\n",
    "model[\"livro\"]"
   ]
  },
  {
   "cell_type": "code",
   "execution_count": 6,
   "metadata": {},
   "outputs": [
    {
     "data": {
      "text/plain": [
       "300"
      ]
     },
     "execution_count": 6,
     "metadata": {},
     "output_type": "execute_result"
    }
   ],
   "source": [
    "# neste modelo os vetores tem dimensao 300\n",
    "len(model[\"livro\"])"
   ]
  },
  {
   "cell_type": "code",
   "execution_count": 12,
   "metadata": {},
   "outputs": [
    {
     "name": "stdout",
     "output_type": "stream",
     "text": [
      "26.926254\n"
     ]
    }
   ],
   "source": [
    "# lembra da distancia coseno? Precisamos da norma. Podemos usar a função np.linalg.norm para calcular\n",
    "# você vai ver que a norma deste vetor nao é 1, portanto nao esta normalizado\n",
    "print(norm(model[\"livro\"]))"
   ]
  },
  {
   "cell_type": "code",
   "execution_count": 14,
   "metadata": {},
   "outputs": [
    {
     "data": {
      "text/plain": [
       "0.29391044"
      ]
     },
     "execution_count": 14,
     "metadata": {},
     "output_type": "execute_result"
    }
   ],
   "source": [
    "# para calcular a distancia entre dois vetores usando a distancia coseno, precisamos calcular \n",
    "# a multiplicacao entre eles.  Aqui usamos o produto interno, que é basicamente  x . y =  x1*y1 + x2 * y2 + ...\n",
    "np.inner(model[\"livro\"],model[\"papel\"])/ (norm(model[\"livro\"]) * norm(model[\"papel\"]))"
   ]
  },
  {
   "cell_type": "code",
   "execution_count": 19,
   "metadata": {},
   "outputs": [
    {
     "data": {
      "text/plain": [
       "0.29391047275171217"
      ]
     },
     "execution_count": 19,
     "metadata": {},
     "output_type": "execute_result"
    }
   ],
   "source": [
    "# essa aqui é uma forma mais direta de calcular a distancia coseno entre duas palavras\n",
    "model.similarity(\"livro\",\"papel\")"
   ]
  },
  {
   "cell_type": "code",
   "execution_count": 20,
   "metadata": {},
   "outputs": [
    {
     "data": {
      "text/plain": [
       "[('livrinho', 0.545522153377533),\n",
       " ('romance', 0.5360256433486938),\n",
       " ('manuscrito', 0.5354059934616089),\n",
       " ('lbum', 0.5000825524330139),\n",
       " ('manuscripto', 0.4891584515571594),\n",
       " ('prologo', 0.48869502544403076),\n",
       " ('folhear', 0.48682519793510437),\n",
       " ('lavanha', 0.46697914600372314),\n",
       " ('almanaque', 0.46368607878685),\n",
       " ('folheando', 0.46092987060546875)]"
      ]
     },
     "execution_count": 20,
     "metadata": {},
     "output_type": "execute_result"
    }
   ],
   "source": [
    "# agora vamos ver as k palavras mais parecidas com livro nesse modelo\n",
    "\n",
    "# Observação 1: o que o gensim fez? multiplicou o vetor de \"livro\" pela matrix de vocabulário. Com o vetor \n",
    "# resultante das distancias, pode ordenar os resultados e pegar os 10 mais similares\n",
    "\n",
    "# Observação 2: lembra do nosso modelo Machado? Aqui por mais que nossa wikipedia seja pequena, a precisão vai ser \n",
    "# maior do que aquele modelo restrito\n",
    "model.most_similar(\"livro\", topn=10)"
   ]
  },
  {
   "cell_type": "code",
   "execution_count": 21,
   "metadata": {},
   "outputs": [
    {
     "data": {
      "text/plain": [
       "[('pergaminho', 0.5833896398544312),\n",
       " ('manuscrito', 0.5700511932373047),\n",
       " ('caderno', 0.560147225856781),\n",
       " ('lbum', 0.5440178513526917),\n",
       " ('livrinho', 0.5435659885406494),\n",
       " ('romance', 0.5009903311729431),\n",
       " ('sobrescrito', 0.497836172580719),\n",
       " ('folhear', 0.4957329034805298),\n",
       " ('encadernado', 0.4916503429412842),\n",
       " ('releu', 0.4894988536834717)]"
      ]
     },
     "execution_count": 21,
     "metadata": {},
     "output_type": "execute_result"
    }
   ],
   "source": [
    "# e se eu quiser um grupo de palavras? É bem parecido. Olha só o resultado!\n",
    "model.most_similar([\"livro\",\"papel\"], topn=10)"
   ]
  },
  {
   "cell_type": "code",
   "execution_count": null,
   "metadata": {},
   "outputs": [],
   "source": []
  }
 ],
 "metadata": {
  "kernelspec": {
   "display_name": "Python 3",
   "language": "python",
   "name": "python3"
  },
  "language_info": {
   "codemirror_mode": {
    "name": "ipython",
    "version": 3
   },
   "file_extension": ".py",
   "mimetype": "text/x-python",
   "name": "python",
   "nbconvert_exporter": "python",
   "pygments_lexer": "ipython3",
   "version": "3.6.10"
  }
 },
 "nbformat": 4,
 "nbformat_minor": 4
}
