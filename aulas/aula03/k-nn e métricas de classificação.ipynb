{
 "cells": [
  {
   "cell_type": "markdown",
   "metadata": {},
   "source": [
    "# Classificando exemplos com k-nn"
   ]
  },
  {
   "cell_type": "code",
   "execution_count": 6,
   "metadata": {},
   "outputs": [],
   "source": [
    "# baseado no exemplo de: \n",
    "# https://scikit-learn.org/0.19/auto_examples/text/document_classification_20newsgroups.html#sphx-glr-auto-examples-text-document-classification-20newsgroups-py\n",
    "from sklearn.datasets import fetch_20newsgroups\n",
    "from sklearn.feature_extraction.text import TfidfVectorizer\n",
    "from sklearn.neighbors import KNeighborsClassifier"
   ]
  },
  {
   "cell_type": "code",
   "execution_count": 2,
   "metadata": {},
   "outputs": [],
   "source": [
    "data_train = fetch_20newsgroups(subset='train')\n",
    "data_test = fetch_20newsgroups(subset='test')"
   ]
  },
  {
   "cell_type": "code",
   "execution_count": 4,
   "metadata": {},
   "outputs": [],
   "source": [
    "# colocando nomes mais compreensiveis para os rótulos de treino e teste\n",
    "y_train, y_test = data_train.target, data_test.target\n",
    "\n",
    "# extraindo as features de treino, eliminando stop_words em inglês\n",
    "vectorizer = TfidfVectorizer(stop_words='english')\n",
    "X_train = vectorizer.fit_transform(data_train.data)"
   ]
  },
  {
   "cell_type": "code",
   "execution_count": 5,
   "metadata": {},
   "outputs": [],
   "source": [
    "# agora extrair as features do teste\n",
    "X_test = vectorizer.transform(data_test.data)"
   ]
  },
  {
   "cell_type": "code",
   "execution_count": 7,
   "metadata": {},
   "outputs": [],
   "source": [
    "# nosso classificador\n",
    "clf = KNeighborsClassifier(n_neighbors=10)"
   ]
  },
  {
   "cell_type": "code",
   "execution_count": 8,
   "metadata": {},
   "outputs": [
    {
     "data": {
      "text/plain": [
       "KNeighborsClassifier(algorithm='auto', leaf_size=30, metric='minkowski',\n",
       "           metric_params=None, n_jobs=None, n_neighbors=10, p=2,\n",
       "           weights='uniform')"
      ]
     },
     "execution_count": 8,
     "metadata": {},
     "output_type": "execute_result"
    }
   ],
   "source": [
    "# treinamento\n",
    "clf.fit(X_train, y_train)"
   ]
  },
  {
   "cell_type": "code",
   "execution_count": 9,
   "metadata": {},
   "outputs": [],
   "source": [
    "# predição do meu conjunto de teste\n",
    " pred = clf.predict(X_test)"
   ]
  },
  {
   "cell_type": "markdown",
   "metadata": {},
   "source": [
    "# Métricas de classificação"
   ]
  },
  {
   "cell_type": "code",
   "execution_count": 12,
   "metadata": {},
   "outputs": [],
   "source": [
    "from sklearn import metrics"
   ]
  },
  {
   "cell_type": "code",
   "execution_count": 14,
   "metadata": {},
   "outputs": [
    {
     "name": "stdout",
     "output_type": "stream",
     "text": [
      "[[237   2   0   3   0   2   3   0   2   1   0   3   0  11   5  24   1   3\n",
      "    1  21]\n",
      " [  4 245  22  12  15  23   5   8   7   9   5  10   4   0   5   2   3   5\n",
      "    5   0]\n",
      " [  2  27 258  25  10  12  14   4   2  10   2   9   2   0   9   2   1   2\n",
      "    0   3]\n",
      " [  6  19  28 235  27   7  19   4   4   6   0   6  15   0   6   0   2   2\n",
      "    4   2]\n",
      " [  3  14  18  44 210   6  19   7   3  11   5   4   7   2  11   3   4   8\n",
      "    3   3]\n",
      " [  2  44  37  13  12 235   6   0   6   9   2   3   7   1   9   2   2   3\n",
      "    2   0]\n",
      " [  7   9  22  49  33  11 168  10   7  14   9   3  21   7   3   3   3   3\n",
      "    4   4]\n",
      " [  2  18   4  11  13   8   9 275   8   6   4   5  10   1   4   4   5   1\n",
      "    6   2]\n",
      " [  1   3   2   2   4   3   4  16 339   3   3   3   4   2   1   1   1   2\n",
      "    3   1]\n",
      " [  9   9   3   3   5   0  10  12   5 302  23   1   3   0   3   0   4   2\n",
      "    2   1]\n",
      " [  3   5   2   3   2   4   4   1   1  10 353   1   3   0   1   1   0   1\n",
      "    1   3]\n",
      " [  3   5   5   6   7   3   1   0   3   4   3 329   1   3   3   2  11   1\n",
      "    5   1]\n",
      " [ 11  20  13  27  10   4  22  12  18  12   7   8 191   8  15   3   3   4\n",
      "    2   3]\n",
      " [  6  11   4  13  13   6  17   4  11  11   9   8  18 228   1  10   2   6\n",
      "   12   6]\n",
      " [  2  14   3   4   1   2   1   4   4   6   3   3   8   1 330   1   2   1\n",
      "    4   0]\n",
      " [ 18   4   3   1   0   0   1   2   3  12   5   2   1   3   7 310   3   0\n",
      "    5  18]\n",
      " [  1   2   3   5   3   6   3   5   4   8   0  14   0   2   8   2 279   3\n",
      "   11   5]\n",
      " [ 29   3   1   4   1   1   1   1   4   5   5   0   3   0   5  14   6 290\n",
      "    3   0]\n",
      " [  4   4   3   2   1   6  13   7   0   2   3   8   2   1   6   1  54   4\n",
      "  185   4]\n",
      " [ 44   3   3   1   1   1   6   2   1   4   1   1   0   3   7  28   8   2\n",
      "    7 128]]\n"
     ]
    }
   ],
   "source": [
    "# aqui temos 20 classes, então teremos 20 linhas e 20 colunas!\n",
    "print(metrics.confusion_matrix(y_test, pred))"
   ]
  },
  {
   "cell_type": "code",
   "execution_count": 15,
   "metadata": {},
   "outputs": [],
   "source": [
    "target_names = data_train.target_names # o nome das classes"
   ]
  },
  {
   "cell_type": "code",
   "execution_count": 16,
   "metadata": {},
   "outputs": [
    {
     "name": "stdout",
     "output_type": "stream",
     "text": [
      "                          precision    recall  f1-score   support\n",
      "\n",
      "             alt.atheism       0.60      0.74      0.66       319\n",
      "           comp.graphics       0.53      0.63      0.58       389\n",
      " comp.os.ms-windows.misc       0.59      0.65      0.62       394\n",
      "comp.sys.ibm.pc.hardware       0.51      0.60      0.55       392\n",
      "   comp.sys.mac.hardware       0.57      0.55      0.56       385\n",
      "          comp.windows.x       0.69      0.59      0.64       395\n",
      "            misc.forsale       0.52      0.43      0.47       390\n",
      "               rec.autos       0.74      0.69      0.71       396\n",
      "         rec.motorcycles       0.78      0.85      0.82       398\n",
      "      rec.sport.baseball       0.68      0.76      0.72       397\n",
      "        rec.sport.hockey       0.80      0.88      0.84       399\n",
      "               sci.crypt       0.78      0.83      0.81       396\n",
      "         sci.electronics       0.64      0.49      0.55       393\n",
      "                 sci.med       0.84      0.58      0.68       396\n",
      "               sci.space       0.75      0.84      0.79       394\n",
      "  soc.religion.christian       0.75      0.78      0.76       398\n",
      "      talk.politics.guns       0.71      0.77      0.74       364\n",
      "   talk.politics.mideast       0.85      0.77      0.81       376\n",
      "      talk.politics.misc       0.70      0.60      0.64       310\n",
      "      talk.religion.misc       0.62      0.51      0.56       251\n",
      "\n",
      "               micro avg       0.68      0.68      0.68      7532\n",
      "               macro avg       0.68      0.68      0.68      7532\n",
      "            weighted avg       0.68      0.68      0.68      7532\n",
      "\n"
     ]
    }
   ],
   "source": [
    "# existem módulos dentro do scikit que mostram apenas a precisão, recall e f1. Aqui\n",
    "# tudo é apresentado de uma vez só\n",
    "\n",
    "# O suporte é o número de ocorrências de cada classe em y_true\n",
    "print(metrics.classification_report(y_test, pred,\n",
    "                                            target_names=target_names))"
   ]
  },
  {
   "cell_type": "code",
   "execution_count": null,
   "metadata": {},
   "outputs": [],
   "source": []
  }
 ],
 "metadata": {
  "kernelspec": {
   "display_name": "Python 3",
   "language": "python",
   "name": "python3"
  },
  "language_info": {
   "codemirror_mode": {
    "name": "ipython",
    "version": 3
   },
   "file_extension": ".py",
   "mimetype": "text/x-python",
   "name": "python",
   "nbconvert_exporter": "python",
   "pygments_lexer": "ipython3",
   "version": "3.6.10"
  }
 },
 "nbformat": 4,
 "nbformat_minor": 4
}
