{
 "cells": [
  {
   "cell_type": "markdown",
   "metadata": {},
   "source": [
    "# Usando o algoritmo de Viterbi para rotular sequências de POS tagging\n",
    "\n",
    "Baseado no tutorial: https://www.kaggle.com/deepanshusinha/hmms-and-viterbi-algorithm-for-pos-tagging"
   ]
  },
  {
   "cell_type": "code",
   "execution_count": 1,
   "metadata": {},
   "outputs": [],
   "source": [
    "#bibliotecas relevantes\n",
    "import nltk\n",
    "import numpy as np\n",
    "import pandas as pd\n",
    "import random\n",
    "from sklearn.model_selection import train_test_split\n",
    "import pprint, time"
   ]
  },
  {
   "cell_type": "code",
   "execution_count": 2,
   "metadata": {},
   "outputs": [],
   "source": [
    "# [('Um', '>N+art'), ('revivalismo', 'H+n'), ('refrescante', 'N<+adj')]\n",
    "# nltk.download()\n",
    "# leitura de sentenças com as tags\n",
    "data = list(nltk.corpus.floresta.tagged_sents())"
   ]
  },
  {
   "cell_type": "code",
   "execution_count": 3,
   "metadata": {},
   "outputs": [
    {
     "name": "stdout",
     "output_type": "stream",
     "text": [
      "[('Um', '>N+art'), ('revivalismo', 'H+n'), ('refrescante', 'N<+adj')]\n"
     ]
    }
   ],
   "source": [
    "print(data[0])"
   ]
  },
  {
   "cell_type": "code",
   "execution_count": 4,
   "metadata": {},
   "outputs": [],
   "source": [
    "# as tags do corpus floresta consistem de alguma \n",
    "# informação sintática e mais a tag de POS. Vamos retirar \n",
    "# essa informação sintática e ficar só com as tags POS. \n",
    "# Fonte: http://www.nltk.org/howto/portuguese_en.html\n",
    "def simplify_tag(t):\n",
    "    if \"+\" in t:\n",
    "        return t[t.index(\"+\")+1:]\n",
    "    else:\n",
    "        return t\n",
    "    \n",
    "new_data = []\n",
    "for sent in data:\n",
    "    new_sent = []\n",
    "    for (w, t) in sent:\n",
    "        new_sent.append((w, simplify_tag(t)))\n",
    "    new_data.append(new_sent)"
   ]
  },
  {
   "cell_type": "code",
   "execution_count": 6,
   "metadata": {},
   "outputs": [
    {
     "name": "stdout",
     "output_type": "stream",
     "text": [
      "[('Um', 'art'), ('revivalismo', 'n'), ('refrescante', 'adj')]\n"
     ]
    }
   ],
   "source": [
    "# vendo como os nossos dados ficaram\n",
    "print(new_data[0])"
   ]
  },
  {
   "cell_type": "code",
   "execution_count": 7,
   "metadata": {},
   "outputs": [
    {
     "name": "stdout",
     "output_type": "stream",
     "text": [
      "Tamanho do conjunto de treino - 8802\n",
      "Tamanho do conjunto de teste - 464\n"
     ]
    }
   ],
   "source": [
    "# dividindo dados em treino e validação com proporção 95:5\n",
    "random.seed(1234)\n",
    "train_set, test_set = train_test_split(new_data, train_size=0.95, test_size=0.05)\n",
    "\n",
    "print(\"Tamanho do conjunto de treino -\", len(train_set))\n",
    "print(\"Tamanho do conjunto de teste -\", len(test_set))"
   ]
  },
  {
   "cell_type": "code",
   "execution_count": 8,
   "metadata": {},
   "outputs": [
    {
     "name": "stdout",
     "output_type": "stream",
     "text": [
      "Palavras de treino rotuladas -  201476\n",
      "Palavras de teste rotuladas -  10376\n"
     ]
    }
   ],
   "source": [
    "# Pegando a lista de treino e teste das palavras rotuladas\n",
    "train_tagged_words = [tup for sent in train_set for tup in sent]\n",
    "print(\"Palavras de treino rotuladas - \", len(train_tagged_words))\n",
    "\n",
    "test_tagged_words = [tup[0] for sent in test_set for tup in sent]\n",
    "print(\"Palavras de teste rotuladas - \", len(test_tagged_words))"
   ]
  },
  {
   "cell_type": "code",
   "execution_count": 9,
   "metadata": {},
   "outputs": [
    {
     "name": "stdout",
     "output_type": "stream",
     "text": [
      "[('O', 'art'), ('reajuste', 'n'), ('é', 'v-fin'), ('de', 'prp'), ('6,08', 'num')]\n"
     ]
    }
   ],
   "source": [
    "# dando uma checada\n",
    "print(train_tagged_words[:5])"
   ]
  },
  {
   "cell_type": "code",
   "execution_count": 10,
   "metadata": {},
   "outputs": [],
   "source": [
    "# computar a probabilidade e emissão para uma dada palavra \n",
    "# para uma dada tag\n",
    "def word_given_tag(word, tag, train_bag = train_tagged_words):\n",
    "    tag_list = [pair for pair in train_bag if pair[1] == tag]\n",
    "    tag_count = len(tag_list)    \n",
    "    word_given_tag_list = [pair[0] for pair in tag_list if pair[0] == word]    \n",
    "    word_given_tag_count = len(word_given_tag_list)    \n",
    "    \n",
    "    return (word_given_tag_count, tag_count)"
   ]
  },
  {
   "cell_type": "code",
   "execution_count": 11,
   "metadata": {},
   "outputs": [],
   "source": [
    "# computer a as probabilidades de transição da tag anterior e da próxima tag\n",
    "def t2_given_t1(t2, t1, train_bag = train_tagged_words):\n",
    "    tags = [pair[1] for pair in train_bag]\n",
    "    \n",
    "    t1_tags_list = [tag for tag in tags if tag == t1]\n",
    "    t1_tags_count = len(t1_tags_list)\n",
    "    \n",
    "    t2_given_t1_list = [tags[index+1] for index in range(len(tags)-1) if tags[index] == t1 and tags[index+1] == t2]\n",
    "    t2_given_t1_count = len(t2_given_t1_list)\n",
    "    \n",
    "    return(t2_given_t1_count, t1_tags_count)"
   ]
  },
  {
   "cell_type": "code",
   "execution_count": 12,
   "metadata": {},
   "outputs": [],
   "source": [
    "# tokens no conjunto de treino\n",
    "train_tagged_tokens = [tag[0] for tag in train_tagged_words]\n",
    "\n",
    "# POS tags para os tokens no conjunto de treino\n",
    "train_tagged_pos_tokens = [tag[1] for tag in train_tagged_words]\n",
    "\n",
    "# construção do vocabulário de treino (conjunto único de palavras)\n",
    "training_vocabulary_set = set(train_tagged_tokens)\n",
    "\n",
    "# construção de POS tags em um conjunto (conjunto único de tags)\n",
    "training_pos_tag_set = set(train_tagged_pos_tokens)"
   ]
  },
  {
   "cell_type": "code",
   "execution_count": 13,
   "metadata": {},
   "outputs": [],
   "source": [
    "# computando P(w/t) e armazenando na matriz  [Tags x Vocabulario]. Essa é uma matriz com dimensão \n",
    "# de len(training_pos_tag_set) X len(training_vocabulary_set)\n",
    "\n",
    "len_pos_tags = len(training_pos_tag_set)\n",
    "len_vocab = len(training_vocabulary_set)"
   ]
  },
  {
   "cell_type": "code",
   "execution_count": 14,
   "metadata": {},
   "outputs": [],
   "source": [
    "# criando uma matriz de transição tag x tag de training_pos_tag_set\n",
    "# cada coluna é t2, cada linha é  t1\n",
    "# assim M(i, j) representa P(tj dado ti)\n",
    "\n",
    "tags_matrix = np.zeros((len_pos_tags, len_pos_tags), dtype='float32')\n",
    "for i, t1 in enumerate(list(training_pos_tag_set)):\n",
    "    for j, t2 in enumerate(list(training_pos_tag_set)): \n",
    "        tags_matrix[i, j] = t2_given_t1(t2, t1)[0]/t2_given_t1(t2, t1)[1]"
   ]
  },
  {
   "cell_type": "code",
   "execution_count": 15,
   "metadata": {},
   "outputs": [],
   "source": [
    "# convertendo a matriz para um data frame para melhor legibilidade\n",
    "tags_df = pd.DataFrame(tags_matrix, columns = list(training_pos_tag_set), index=list(training_pos_tag_set))"
   ]
  },
  {
   "cell_type": "code",
   "execution_count": 16,
   "metadata": {},
   "outputs": [],
   "source": [
    "# Algoritmo de Viterbi simples\n",
    "def Vanilla_Viterbi(words, train_bag = train_tagged_words):\n",
    "    state = []\n",
    "    \n",
    "    T = list(set([pair[1] for pair in train_bag]))\n",
    "    \n",
    "    for key, word in enumerate(words):\n",
    "        #initialise list of probability column for a given observation\n",
    "        p = [] \n",
    "        for tag in T:\n",
    "            if key == 0:\n",
    "                transition_p = tags_df.loc['.', tag]\n",
    "            else:\n",
    "                transition_p = tags_df.loc[state[-1], tag]\n",
    "                \n",
    "            # Essa eh a nossa função de score (psi)\n",
    "            # computar a emissão e probabilidade de estados\n",
    "            emission_p = word_given_tag(words[key], tag)[0]/word_given_tag(words[key], tag)[1]\n",
    "            state_probability = emission_p * transition_p    \n",
    "            p.append(state_probability)\n",
    "            \n",
    "        pmax = max(p)\n",
    "        # pegando o estado para o qual a probabilidade eh maxima\n",
    "        state_max = T[p.index(pmax)] \n",
    "        state.append(state_max)\n",
    "    return list(zip(words, state))"
   ]
  },
  {
   "cell_type": "code",
   "execution_count": 17,
   "metadata": {},
   "outputs": [],
   "source": [
    "test_tagged_words = ['o','livro','está','na','mesa']\n",
    "tagged_seq = Vanilla_Viterbi(test_tagged_words)"
   ]
  },
  {
   "cell_type": "code",
   "execution_count": 18,
   "metadata": {},
   "outputs": [
    {
     "name": "stdout",
     "output_type": "stream",
     "text": [
      "[('o', 'art'), ('livro', 'n'), ('está', 'v-fin'), ('na', 'pron-pers'), ('mesa', 'n')]\n"
     ]
    }
   ],
   "source": [
    "print(tagged_seq)"
   ]
  },
  {
   "cell_type": "code",
   "execution_count": 22,
   "metadata": {},
   "outputs": [],
   "source": [
    "test_tagged_words1 = ['o','rio','é','dele']\n",
    "tagged_seq1 = Vanilla_Viterbi(test_tagged_words1)"
   ]
  },
  {
   "cell_type": "code",
   "execution_count": 23,
   "metadata": {},
   "outputs": [
    {
     "name": "stdout",
     "output_type": "stream",
     "text": [
      "[('o', 'art'), ('rio', 'n'), ('é', 'v-fin'), ('dele', '2]+adv')]\n"
     ]
    }
   ],
   "source": [
    "print(tagged_seq1)"
   ]
  },
  {
   "cell_type": "code",
   "execution_count": 24,
   "metadata": {},
   "outputs": [],
   "source": [
    "test_tagged_words2 = ['eu','rio','dele']\n",
    "tagged_seq2 = Vanilla_Viterbi(test_tagged_words2)"
   ]
  },
  {
   "cell_type": "code",
   "execution_count": 25,
   "metadata": {},
   "outputs": [
    {
     "name": "stdout",
     "output_type": "stream",
     "text": [
      "[('eu', 'pron-pers'), ('rio', 'n'), ('dele', '2]+adv')]\n"
     ]
    }
   ],
   "source": [
    "print(tagged_seq2)"
   ]
  },
  {
   "cell_type": "code",
   "execution_count": null,
   "metadata": {},
   "outputs": [],
   "source": []
  }
 ],
 "metadata": {
  "kernelspec": {
   "display_name": "Python 3",
   "language": "python",
   "name": "python3"
  },
  "language_info": {
   "codemirror_mode": {
    "name": "ipython",
    "version": 3
   },
   "file_extension": ".py",
   "mimetype": "text/x-python",
   "name": "python",
   "nbconvert_exporter": "python",
   "pygments_lexer": "ipython3",
   "version": "3.6.10"
  }
 },
 "nbformat": 4,
 "nbformat_minor": 4
}
