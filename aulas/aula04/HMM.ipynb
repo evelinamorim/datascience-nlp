{
 "cells": [
  {
   "cell_type": "code",
   "execution_count": 1,
   "metadata": {},
   "outputs": [],
   "source": [
    "import nltk\n",
    "from nltk.tag import  HiddenMarkovModelTrainer\n",
    "import random\n",
    "from sklearn.model_selection import train_test_split\n",
    "from nltk.probability import LidstoneProbDist"
   ]
  },
  {
   "cell_type": "code",
   "execution_count": 2,
   "metadata": {},
   "outputs": [],
   "source": [
    "data = list(nltk.corpus.floresta.tagged_sents())"
   ]
  },
  {
   "cell_type": "code",
   "execution_count": 3,
   "metadata": {},
   "outputs": [],
   "source": [
    "# as tags do corpus floresta consistem de alguma \n",
    "# informação sintática e mais a tag de POS. Vamos retirar \n",
    "# essa informação sintática e ficar só com as tags POS. \n",
    "# Fonte: http://www.nltk.org/howto/portuguese_en.html\n",
    "def simplify_tag(t):\n",
    "    if \"+\" in t:\n",
    "        return t[t.index(\"+\")+1:]\n",
    "    else:\n",
    "        return t\n",
    "    \n",
    "new_data = []\n",
    "for sent in data:\n",
    "    new_sent = []\n",
    "    for (w, t) in sent:\n",
    "        new_sent.append((w, simplify_tag(t)))\n",
    "    new_data.append(new_sent)\n",
    "    \n",
    "new_data = new_data[:100]"
   ]
  },
  {
   "cell_type": "code",
   "execution_count": 4,
   "metadata": {},
   "outputs": [
    {
     "name": "stdout",
     "output_type": "stream",
     "text": [
      "Tamanho do conjunto de treino - 95\n",
      "Tamanho do conjunto de teste - 5\n"
     ]
    }
   ],
   "source": [
    "# dividindo dados em treino e validação com proporção 95:5\n",
    "random.seed(1234)\n",
    "train_set, test_set = train_test_split(new_data, train_size=0.95, test_size=0.05)\n",
    "\n",
    "print(\"Tamanho do conjunto de treino -\", len(train_set))\n",
    "print(\"Tamanho do conjunto de teste -\", len(test_set))"
   ]
  },
  {
   "cell_type": "code",
   "execution_count": 5,
   "metadata": {},
   "outputs": [
    {
     "name": "stdout",
     "output_type": "stream",
     "text": [
      "Palavras de treino rotuladas -  2727\n",
      "Palavras de teste rotudas -  87\n"
     ]
    }
   ],
   "source": [
    "# Pegando a lista de treino e teste das palavras rotuladas\n",
    "train_tagged_words = [tup for sent in train_set for tup in sent]\n",
    "print(\"Palavras de treino rotuladas - \", len(train_tagged_words))\n",
    "\n",
    "test_tagged_words = [tup[0] for sent in test_set for tup in sent]\n",
    "print(\"Palavras de teste rotudas - \", len(test_tagged_words))"
   ]
  },
  {
   "cell_type": "code",
   "execution_count": 6,
   "metadata": {},
   "outputs": [],
   "source": [
    "# tokens no conjunto de treino\n",
    "train_tagged_tokens = set([tag[0] for tag in train_tagged_words])\n",
    "\n",
    "# POS tags para os tokens no conjunto de treino\n",
    "train_tagged_pos_tokens = set([tag[1] for tag in train_tagged_words])"
   ]
  },
  {
   "cell_type": "code",
   "execution_count": 7,
   "metadata": {},
   "outputs": [],
   "source": [
    "trainer = HiddenMarkovModelTrainer(list(train_tagged_tokens), list(train_tagged_pos_tokens))"
   ]
  },
  {
   "cell_type": "code",
   "execution_count": 8,
   "metadata": {},
   "outputs": [],
   "source": [
    "hmm = trainer.train_supervised(train_set[:10], estimator=lambda fd, bins: LidstoneProbDist(fd, 0.1, bins),)"
   ]
  },
  {
   "cell_type": "code",
   "execution_count": 9,
   "metadata": {},
   "outputs": [
    {
     "name": "stdout",
     "output_type": "stream",
     "text": [
      "Test: O/art 7_e_Meio/prop é/v-fin um/art ex-libris/n de/prp a/art noite/n algarvia/adj ./.\n",
      "\n",
      "Untagged: O 7_e_Meio é um ex-libris de a noite algarvia .\n",
      "\n",
      "HMM-tagged: O/adj 7_e_Meio/, é/v-fin um/art ex-libris/n de/prp a/art noite/n algarvia/adj ./.\n",
      "\n",
      "Entropy: 90.68391204709312\n",
      "\n",
      "------------------------------------------------------------\n",
      "accuracy over 10 tokens: 80.00\n"
     ]
    }
   ],
   "source": [
    "hmm.test(test_set[:1], verbose=True)"
   ]
  },
  {
   "cell_type": "code",
   "execution_count": null,
   "metadata": {},
   "outputs": [],
   "source": [
    "#from nltk.tag.hmm import demo, demo_pos\n",
    "#nltk.download('brown')\n",
    "#demo_pos()"
   ]
  },
  {
   "cell_type": "code",
   "execution_count": null,
   "metadata": {},
   "outputs": [],
   "source": []
  },
  {
   "cell_type": "code",
   "execution_count": null,
   "metadata": {},
   "outputs": [],
   "source": []
  },
  {
   "cell_type": "code",
   "execution_count": null,
   "metadata": {},
   "outputs": [],
   "source": []
  }
 ],
 "metadata": {
  "kernelspec": {
   "display_name": "Python 3",
   "language": "python",
   "name": "python3"
  },
  "language_info": {
   "codemirror_mode": {
    "name": "ipython",
    "version": 3
   },
   "file_extension": ".py",
   "mimetype": "text/x-python",
   "name": "python",
   "nbconvert_exporter": "python",
   "pygments_lexer": "ipython3",
   "version": "3.6.10"
  }
 },
 "nbformat": 4,
 "nbformat_minor": 4
}
