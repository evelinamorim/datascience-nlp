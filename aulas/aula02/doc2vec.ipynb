{
 "cells": [
  {
   "cell_type": "markdown",
   "metadata": {},
   "source": [
    "# Treinando um modelo do Paragraph Vector"
   ]
  },
  {
   "cell_type": "code",
   "execution_count": 1,
   "metadata": {},
   "outputs": [],
   "source": [
    "import gensim\n",
    "from nltk.corpus import machado\n",
    "from nltk import sent_tokenize\n",
    "from gensim.utils import simple_preprocess"
   ]
  },
  {
   "cell_type": "code",
   "execution_count": 2,
   "metadata": {},
   "outputs": [],
   "source": [
    "model = gensim.models.doc2vec.Doc2Vec(vector_size=50, min_count=2, epochs=5)"
   ]
  },
  {
   "cell_type": "code",
   "execution_count": 3,
   "metadata": {},
   "outputs": [],
   "source": [
    "# o algoritmo doc2vec processa as palavras por sentença. Então precisamos dividir os textos\n",
    "# como sentenças para alimentar o nosso modelo. A função sent_tokenize do ntlk faz isso.\n",
    "corpus_machado = []\n",
    "i = 0\n",
    "for f_id in machado.fileids():\n",
    "    sent_lst = sent_tokenize(machado.raw(f_id))\n",
    "    for s in sent_lst:\n",
    "        corpus_machado.append(gensim.models.doc2vec.TaggedDocument(simple_preprocess(s),[i]))\n",
    "        i += 1"
   ]
  },
  {
   "cell_type": "code",
   "execution_count": 4,
   "metadata": {},
   "outputs": [],
   "source": [
    "# contrucao do vocabulario do modelo a partir das sentenças do nosso corpus, \n",
    "# neste caso temos a representação dos documentos\n",
    "model.build_vocab(corpus_machado)"
   ]
  },
  {
   "cell_type": "code",
   "execution_count": 5,
   "metadata": {},
   "outputs": [],
   "source": [
    "# treinamento do modelo\n",
    "model.train(corpus_machado, total_examples=model.corpus_count, epochs=model.epochs)"
   ]
  },
  {
   "cell_type": "markdown",
   "metadata": {},
   "source": [
    "# Inferindo uma representação de um trecho qualquer de texto"
   ]
  },
  {
   "cell_type": "code",
   "execution_count": 6,
   "metadata": {},
   "outputs": [],
   "source": [
    "vector = model.infer_vector([\"abade\",\"doutor\",\"livro\",\"assassino\"])"
   ]
  },
  {
   "cell_type": "code",
   "execution_count": 7,
   "metadata": {},
   "outputs": [
    {
     "name": "stdout",
     "output_type": "stream",
     "text": [
      "[ 0.01354391 -0.07428131 -0.02832872 -0.01191393 -0.03184336  0.01969732\n",
      "  0.01903455  0.02498594  0.05272284  0.03581441  0.00846596 -0.01475284\n",
      "  0.04046239  0.02317912 -0.0908125   0.03821414  0.00310028 -0.04845076\n",
      " -0.01047413 -0.02948614  0.09222609 -0.02829869 -0.00688945 -0.02065181\n",
      "  0.01184211  0.0217641   0.00400338 -0.02091907 -0.02373834  0.00785763\n",
      " -0.06468531 -0.01814467 -0.07609721  0.01571541 -0.039366   -0.04766297\n",
      "  0.01616565  0.03436644  0.04673313 -0.07510643  0.0091365   0.03365703\n",
      " -0.00626832 -0.0067878  -0.00651612  0.00697726 -0.05325504 -0.02000935\n",
      " -0.08964141 -0.07047554]\n"
     ]
    }
   ],
   "source": [
    "print(vector)"
   ]
  },
  {
   "cell_type": "markdown",
   "metadata": {},
   "source": [
    "# Similaridade"
   ]
  },
  {
   "cell_type": "code",
   "execution_count": 8,
   "metadata": {},
   "outputs": [
    {
     "data": {
      "text/plain": [
       "[(13088, 0.7003483176231384),\n",
       " (35670, 0.6798233389854431),\n",
       " (110047, 0.6714412569999695),\n",
       " (40156, 0.6596086621284485),\n",
       " (150237, 0.6592286825180054),\n",
       " (126713, 0.6579917669296265),\n",
       " (32968, 0.6559262871742249),\n",
       " (92861, 0.6532794237136841),\n",
       " (129357, 0.6520761251449585),\n",
       " (72710, 0.6506253480911255)]"
      ]
     },
     "execution_count": 8,
     "metadata": {},
     "output_type": "execute_result"
    }
   ],
   "source": [
    "model.docvecs.most_similar([vector])"
   ]
  },
  {
   "cell_type": "code",
   "execution_count": 9,
   "metadata": {},
   "outputs": [
    {
     "data": {
      "text/plain": [
       "TaggedDocument(words=['não', 'senhor', 'dê', 'cá', 'livro'], tags=[13088])"
      ]
     },
     "execution_count": 9,
     "metadata": {},
     "output_type": "execute_result"
    }
   ],
   "source": [
    "corpus_machado[13088]"
   ]
  },
  {
   "cell_type": "code",
   "execution_count": 10,
   "metadata": {},
   "outputs": [
    {
     "data": {
      "text/plain": [
       "TaggedDocument(words=['mulher', 'dizia', 'ele', 'um', 'livro', 'pé', 'índice', 'do', 'livro'], tags=[35670])"
      ]
     },
     "execution_count": 10,
     "metadata": {},
     "output_type": "execute_result"
    }
   ],
   "source": [
    "corpus_machado[35670]"
   ]
  },
  {
   "cell_type": "code",
   "execution_count": null,
   "metadata": {},
   "outputs": [],
   "source": []
  }
 ],
 "metadata": {
  "kernelspec": {
   "display_name": "Python 3",
   "language": "python",
   "name": "python3"
  },
  "language_info": {
   "codemirror_mode": {
    "name": "ipython",
    "version": 3
   },
   "file_extension": ".py",
   "mimetype": "text/x-python",
   "name": "python",
   "nbconvert_exporter": "python",
   "pygments_lexer": "ipython3",
   "version": "3.6.10"
  }
 },
 "nbformat": 4,
 "nbformat_minor": 4
}
