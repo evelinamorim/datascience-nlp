{
 "cells": [
  {
   "cell_type": "markdown",
   "metadata": {},
   "source": [
    "# Treinando um modelo Fastext"
   ]
  },
  {
   "cell_type": "code",
   "execution_count": 1,
   "metadata": {},
   "outputs": [],
   "source": [
    "from gensim.models.fasttext import FastText\n",
    "from nltk.corpus import machado\n",
    "from nltk import sent_tokenize\n",
    "from gensim.utils import simple_preprocess"
   ]
  },
  {
   "cell_type": "code",
   "execution_count": 2,
   "metadata": {},
   "outputs": [],
   "source": [
    "# modelo que gera vetores de dimensao 50\n",
    "model = FastText(size=50)"
   ]
  },
  {
   "cell_type": "code",
   "execution_count": 3,
   "metadata": {},
   "outputs": [],
   "source": [
    "# o algoritmo fastext processa as palavras por sentença. Então precisamos dividir os textos\n",
    "# como sentenças para alimentar o nosso modelo. A função sent_tokenize do ntlk faz isso.\n",
    "corpus_machado = []\n",
    "for f_id in machado.fileids():\n",
    "    sent_lst = sent_tokenize(machado.raw(f_id))\n",
    "    for s in sent_lst:\n",
    "        corpus_machado.append(simple_preprocess(s))"
   ]
  },
  {
   "cell_type": "code",
   "execution_count": 4,
   "metadata": {},
   "outputs": [],
   "source": [
    "# contrucao do vocabulario do modelo a partir das sentenças do nosso corpus, \n",
    "# neste caso temos subpalavras no nosso modelo\n",
    "model.build_vocab(corpus_machado)"
   ]
  },
  {
   "cell_type": "code",
   "execution_count": 5,
   "metadata": {},
   "outputs": [
    {
     "name": "stdout",
     "output_type": "stream",
     "text": [
      "FastText(vocab=23223, size=50, alpha=0.025)\n"
     ]
    }
   ],
   "source": [
    "# treino do modelo\n",
    "model.train(corpus_machado, epochs=5, total_examples=model.corpus_count)\n",
    "print(model)"
   ]
  },
  {
   "cell_type": "code",
   "execution_count": 9,
   "metadata": {},
   "outputs": [
    {
     "name": "stderr",
     "output_type": "stream",
     "text": [
      "/usr/local/anaconda3/lib/python3.6/site-packages/smart_open/smart_open_lib.py:402: UserWarning: This function is deprecated, use smart_open.open instead. See the migration notes for details: https://github.com/RaRe-Technologies/smart_open/blob/master/README.rst#migrating-to-the-new-open-function\n",
      "  'See the migration notes for details: %s' % _MIGRATION_NOTES_URL\n"
     ]
    }
   ],
   "source": [
    "# salvando o nosso modelo\n",
    "model.save(\"fasttext_machado.model\")\n",
    "\n",
    "# para carregar o modelo novamente, basta executar o comando:\n",
    "# model = FastText.load(\"fasttext_machado.model\")"
   ]
  },
  {
   "cell_type": "markdown",
   "metadata": {},
   "source": [
    "# Acessando o nosso modelo"
   ]
  },
  {
   "cell_type": "code",
   "execution_count": 10,
   "metadata": {},
   "outputs": [
    {
     "name": "stdout",
     "output_type": "stream",
     "text": [
      "True\n"
     ]
    }
   ],
   "source": [
    "# existe abade no nosso modelo?\n",
    "print(\"abade\" in model.wv.vocab)"
   ]
  },
  {
   "cell_type": "code",
   "execution_count": 11,
   "metadata": {},
   "outputs": [
    {
     "name": "stdout",
     "output_type": "stream",
     "text": [
      "False\n"
     ]
    }
   ],
   "source": [
    "# e abades, existe no nosso modelo?\n",
    "print(\"abades\" in model.wv.vocab)"
   ]
  },
  {
   "cell_type": "code",
   "execution_count": 13,
   "metadata": {},
   "outputs": [
    {
     "name": "stdout",
     "output_type": "stream",
     "text": [
      "[-0.4443672   0.90805614 -0.75656885  0.04845766 -0.48434898 -1.0175871\n",
      " -1.1485176   0.97317183  0.9056195   0.3650224   1.0160483   0.6421229\n",
      " -0.09699217  0.50925225 -0.03107869 -0.13866708 -1.336847   -0.10264485\n",
      "  1.1628333  -0.27653182  0.6170154  -1.106943    0.19625801 -1.0569552\n",
      "  0.7991096  -0.94431686  2.1544874   1.0009762   0.6431915   0.12453613\n",
      "  0.26173162 -1.356889    0.137322   -0.48826492  0.08656731  0.4918773\n",
      " -1.0626379  -0.20150933  0.4834094   0.87441796 -0.8484097   1.5917965\n",
      " -0.12964149 -0.37144127 -0.858114    0.85160434 -0.7957879  -0.734271\n",
      "  0.54705465 -2.10055   ]\n"
     ]
    },
    {
     "name": "stderr",
     "output_type": "stream",
     "text": [
      "/usr/local/anaconda3/lib/python3.6/site-packages/ipykernel_launcher.py:2: DeprecationWarning: Call to deprecated `__getitem__` (Method will be removed in 4.0.0, use self.wv.__getitem__() instead).\n",
      "  \n"
     ]
    }
   ],
   "source": [
    "# e como fica a representação de abade no fasttext?\n",
    "print(model[\"abade\"])"
   ]
  },
  {
   "cell_type": "code",
   "execution_count": 14,
   "metadata": {},
   "outputs": [
    {
     "name": "stdout",
     "output_type": "stream",
     "text": [
      "[-1.7268175  -1.929231   -1.503043    1.4269392   1.7914106  -1.7270777\n",
      " -0.4226158  -1.4175737   1.3773617   0.64827096  1.7027539  -0.21197453\n",
      " -3.1449327  -1.6929512   1.7336026  -1.548388    2.2393162   0.44939062\n",
      "  1.7803961  -1.3186657   2.6807108  -2.378572   -1.4265658  -1.3875463\n",
      " -1.6348926  -0.00926078  1.418007    2.3517413   0.6831238  -0.01157634\n",
      " -1.2519003  -2.3625443  -1.1303234   1.6508241   1.8629382   1.4071445\n",
      " -2.505636    0.46523264  0.5438156  -1.7397925  -2.5333648  -0.6766551\n",
      " -1.3017204  -2.9178734  -0.37297213 -0.17595641 -2.5383284  -1.2862448\n",
      "  1.410429   -2.4480207 ]\n"
     ]
    },
    {
     "name": "stderr",
     "output_type": "stream",
     "text": [
      "/usr/local/anaconda3/lib/python3.6/site-packages/ipykernel_launcher.py:2: DeprecationWarning: Call to deprecated `__getitem__` (Method will be removed in 4.0.0, use self.wv.__getitem__() instead).\n",
      "  \n"
     ]
    }
   ],
   "source": [
    "# e se tentarmos acessar uma palavra que nao existe no nosso modelo?\n",
    "print(model[\"abades\"])\n",
    "\n",
    "# O modelo FastText suporta procura por palavras fora de vocabulário através da soma dos ngramas dos\n",
    "# CARACTERES pertencentes a palavra"
   ]
  },
  {
   "cell_type": "markdown",
   "metadata": {},
   "source": [
    "# Operações de similaridade"
   ]
  },
  {
   "cell_type": "code",
   "execution_count": 18,
   "metadata": {},
   "outputs": [
    {
     "name": "stdout",
     "output_type": "stream",
     "text": [
      "0.38694217854775886\n"
     ]
    },
    {
     "name": "stderr",
     "output_type": "stream",
     "text": [
      "/usr/local/anaconda3/lib/python3.6/site-packages/ipykernel_launcher.py:1: DeprecationWarning: Call to deprecated `similarity` (Method will be removed in 4.0.0, use self.wv.similarity() instead).\n",
      "  \"\"\"Entry point for launching an IPython kernel.\n"
     ]
    }
   ],
   "source": [
    "print(model.similarity(\"abade\",\"abades\"))"
   ]
  },
  {
   "cell_type": "code",
   "execution_count": 20,
   "metadata": {},
   "outputs": [
    {
     "name": "stdout",
     "output_type": "stream",
     "text": [
      "0.9263369714377704\n"
     ]
    },
    {
     "name": "stderr",
     "output_type": "stream",
     "text": [
      "/usr/local/anaconda3/lib/python3.6/site-packages/ipykernel_launcher.py:1: DeprecationWarning: Call to deprecated `similarity` (Method will be removed in 4.0.0, use self.wv.similarity() instead).\n",
      "  \"\"\"Entry point for launching an IPython kernel.\n"
     ]
    }
   ],
   "source": [
    "print(model.similarity(\"abade\",\"frade\"))"
   ]
  },
  {
   "cell_type": "code",
   "execution_count": 21,
   "metadata": {},
   "outputs": [
    {
     "name": "stdout",
     "output_type": "stream",
     "text": [
      "[('hélade', 0.9488651752471924), ('náiade', 0.9479535222053528), ('invade', 0.9358224868774414), ('soledade', 0.9324263334274292), ('metade', 0.9306560754776001), ('solicitude', 0.9303337335586548), ('calamidade', 0.9274700284004211), ('frade', 0.926336944103241), ('enfermidade', 0.9193874001502991), ('arrogância', 0.9173600673675537)]\n"
     ]
    },
    {
     "name": "stderr",
     "output_type": "stream",
     "text": [
      "/usr/local/anaconda3/lib/python3.6/site-packages/ipykernel_launcher.py:1: DeprecationWarning: Call to deprecated `most_similar` (Method will be removed in 4.0.0, use self.wv.most_similar() instead).\n",
      "  \"\"\"Entry point for launching an IPython kernel.\n"
     ]
    }
   ],
   "source": [
    "print(model.most_similar(\"abade\"))"
   ]
  },
  {
   "cell_type": "code",
   "execution_count": null,
   "metadata": {},
   "outputs": [],
   "source": []
  }
 ],
 "metadata": {
  "kernelspec": {
   "display_name": "Python 3",
   "language": "python",
   "name": "python3"
  },
  "language_info": {
   "codemirror_mode": {
    "name": "ipython",
    "version": 3
   },
   "file_extension": ".py",
   "mimetype": "text/x-python",
   "name": "python",
   "nbconvert_exporter": "python",
   "pygments_lexer": "ipython3",
   "version": "3.6.10"
  }
 },
 "nbformat": 4,
 "nbformat_minor": 4
}
